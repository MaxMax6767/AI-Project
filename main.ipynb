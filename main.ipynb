{
 "cells": [
  {
   "cell_type": "markdown",
   "source": [
    "# AI Project\n",
    "\n",
    "### Group 6:\n",
    "- AYOUB Simon\n",
    "- GUG Maxime\n",
    "- HOOG Cédric\n",
    "- LANTZ Florian\n",
    "- RINALDI Johan\n",
    "\n",
    "## Context"
   ],
   "metadata": {
    "collapsed": false
   },
   "id": "8ced4083af90d100"
  },
  {
   "cell_type": "markdown",
   "source": [
    "## 1. Data handling & preparation\n",
    "\n",
    "Our datasets are composed of 3 files:\n",
    "- `employee_survey_data.csv`\n",
    "- `general_data.csv`\n",
    "- `manager_survey_data.csv`\n",
    "\n",
    "Given that there is a common column in the 3 files, we will merge them into a single dataframe to facilitate the analysis."
   ],
   "metadata": {
    "collapsed": false
   },
   "id": "e53e648d79b2cd81"
  },
  {
   "cell_type": "code",
   "execution_count": 70,
   "outputs": [
    {
     "data": {
      "text/plain": "   EmployeeID  EnvironmentSatisfaction  JobSatisfaction  WorkLifeBalance  Age  \\\n0           1                      3.0              4.0              2.0   51   \n1           2                      3.0              2.0              4.0   31   \n2           3                      2.0              2.0              1.0   32   \n3           4                      4.0              4.0              3.0   38   \n4           5                      4.0              1.0              3.0   32   \n\n  Attrition     BusinessTravel              Department  DistanceFromHome  \\\n0        No      Travel_Rarely                   Sales                 6   \n1       Yes  Travel_Frequently  Research & Development                10   \n2        No  Travel_Frequently  Research & Development                17   \n3        No         Non-Travel  Research & Development                 2   \n4        No      Travel_Rarely  Research & Development                10   \n\n   Education  ... PercentSalaryHike  StandardHours StockOptionLevel  \\\n0          2  ...                11              8                0   \n1          1  ...                23              8                1   \n2          4  ...                15              8                3   \n3          5  ...                11              8                3   \n4          1  ...                12              8                2   \n\n   TotalWorkingYears TrainingTimesLastYear YearsAtCompany  \\\n0                1.0                     6              1   \n1                6.0                     3              5   \n2                5.0                     2              5   \n3               13.0                     5              8   \n4                9.0                     2              6   \n\n   YearsSinceLastPromotion  YearsWithCurrManager JobInvolvement  \\\n0                        0                     0              3   \n1                        1                     4              2   \n2                        0                     3              3   \n3                        7                     5              2   \n4                        0                     4              3   \n\n   PerformanceRating  \n0                  3  \n1                  4  \n2                  3  \n3                  3  \n4                  3  \n\n[5 rows x 29 columns]",
      "text/html": "<div>\n<style scoped>\n    .dataframe tbody tr th:only-of-type {\n        vertical-align: middle;\n    }\n\n    .dataframe tbody tr th {\n        vertical-align: top;\n    }\n\n    .dataframe thead th {\n        text-align: right;\n    }\n</style>\n<table border=\"1\" class=\"dataframe\">\n  <thead>\n    <tr style=\"text-align: right;\">\n      <th></th>\n      <th>EmployeeID</th>\n      <th>EnvironmentSatisfaction</th>\n      <th>JobSatisfaction</th>\n      <th>WorkLifeBalance</th>\n      <th>Age</th>\n      <th>Attrition</th>\n      <th>BusinessTravel</th>\n      <th>Department</th>\n      <th>DistanceFromHome</th>\n      <th>Education</th>\n      <th>...</th>\n      <th>PercentSalaryHike</th>\n      <th>StandardHours</th>\n      <th>StockOptionLevel</th>\n      <th>TotalWorkingYears</th>\n      <th>TrainingTimesLastYear</th>\n      <th>YearsAtCompany</th>\n      <th>YearsSinceLastPromotion</th>\n      <th>YearsWithCurrManager</th>\n      <th>JobInvolvement</th>\n      <th>PerformanceRating</th>\n    </tr>\n  </thead>\n  <tbody>\n    <tr>\n      <th>0</th>\n      <td>1</td>\n      <td>3.0</td>\n      <td>4.0</td>\n      <td>2.0</td>\n      <td>51</td>\n      <td>No</td>\n      <td>Travel_Rarely</td>\n      <td>Sales</td>\n      <td>6</td>\n      <td>2</td>\n      <td>...</td>\n      <td>11</td>\n      <td>8</td>\n      <td>0</td>\n      <td>1.0</td>\n      <td>6</td>\n      <td>1</td>\n      <td>0</td>\n      <td>0</td>\n      <td>3</td>\n      <td>3</td>\n    </tr>\n    <tr>\n      <th>1</th>\n      <td>2</td>\n      <td>3.0</td>\n      <td>2.0</td>\n      <td>4.0</td>\n      <td>31</td>\n      <td>Yes</td>\n      <td>Travel_Frequently</td>\n      <td>Research &amp; Development</td>\n      <td>10</td>\n      <td>1</td>\n      <td>...</td>\n      <td>23</td>\n      <td>8</td>\n      <td>1</td>\n      <td>6.0</td>\n      <td>3</td>\n      <td>5</td>\n      <td>1</td>\n      <td>4</td>\n      <td>2</td>\n      <td>4</td>\n    </tr>\n    <tr>\n      <th>2</th>\n      <td>3</td>\n      <td>2.0</td>\n      <td>2.0</td>\n      <td>1.0</td>\n      <td>32</td>\n      <td>No</td>\n      <td>Travel_Frequently</td>\n      <td>Research &amp; Development</td>\n      <td>17</td>\n      <td>4</td>\n      <td>...</td>\n      <td>15</td>\n      <td>8</td>\n      <td>3</td>\n      <td>5.0</td>\n      <td>2</td>\n      <td>5</td>\n      <td>0</td>\n      <td>3</td>\n      <td>3</td>\n      <td>3</td>\n    </tr>\n    <tr>\n      <th>3</th>\n      <td>4</td>\n      <td>4.0</td>\n      <td>4.0</td>\n      <td>3.0</td>\n      <td>38</td>\n      <td>No</td>\n      <td>Non-Travel</td>\n      <td>Research &amp; Development</td>\n      <td>2</td>\n      <td>5</td>\n      <td>...</td>\n      <td>11</td>\n      <td>8</td>\n      <td>3</td>\n      <td>13.0</td>\n      <td>5</td>\n      <td>8</td>\n      <td>7</td>\n      <td>5</td>\n      <td>2</td>\n      <td>3</td>\n    </tr>\n    <tr>\n      <th>4</th>\n      <td>5</td>\n      <td>4.0</td>\n      <td>1.0</td>\n      <td>3.0</td>\n      <td>32</td>\n      <td>No</td>\n      <td>Travel_Rarely</td>\n      <td>Research &amp; Development</td>\n      <td>10</td>\n      <td>1</td>\n      <td>...</td>\n      <td>12</td>\n      <td>8</td>\n      <td>2</td>\n      <td>9.0</td>\n      <td>2</td>\n      <td>6</td>\n      <td>0</td>\n      <td>4</td>\n      <td>3</td>\n      <td>3</td>\n    </tr>\n  </tbody>\n</table>\n<p>5 rows × 29 columns</p>\n</div>"
     },
     "execution_count": 70,
     "metadata": {},
     "output_type": "execute_result"
    }
   ],
   "source": [
    "import pandas as pd\n",
    "import os\n",
    "\n",
    "# Set the project root directory (Compatibility fix for Jupyter on linux)\n",
    "pwd = !pwd\n",
    "projectRoot = os.path.abspath(os.path.join(pwd[0], \"..\")) \n",
    "\n",
    "employee_survey_data = pd.read_csv(os.path.join(projectRoot, 'datasets', 'employee_survey_data.csv'))\n",
    "general_data = pd.read_csv(os.path.join(projectRoot, 'datasets', 'general_data.csv'))\n",
    "manager_survey_data = pd.read_csv(os.path.join(projectRoot, 'datasets', 'manager_survey_data.csv'))\n",
    "\n",
    "data = pd.merge(employee_survey_data, general_data, on='EmployeeID')\n",
    "data = pd.merge(data, manager_survey_data, on='EmployeeID')\n",
    "\n",
    "data.head()"
   ],
   "metadata": {
    "collapsed": false,
    "ExecuteTime": {
     "end_time": "2024-12-16T12:44:42.087387600Z",
     "start_time": "2024-12-16T12:44:41.973440800Z"
    }
   },
   "id": "11972f412002d2c9"
  },
  {
   "cell_type": "markdown",
   "source": [
    "Now that we have merged the datasets, we can start the data preparation.\n",
    "\n",
    "### 1.1 Data cleaning\n",
    "First, we will check if there are any missing values in the dataset."
   ],
   "metadata": {
    "collapsed": false
   },
   "id": "2a29696c66cc022b"
  },
  {
   "cell_type": "code",
   "execution_count": 71,
   "outputs": [
    {
     "data": {
      "text/plain": "EmployeeID                  0\nEnvironmentSatisfaction    25\nJobSatisfaction            20\nWorkLifeBalance            38\nAge                         0\nAttrition                   0\nBusinessTravel              0\nDepartment                  0\nDistanceFromHome            0\nEducation                   0\nEducationField              0\nEmployeeCount               0\nGender                      0\nJobLevel                    0\nJobRole                     0\nMaritalStatus               0\nMonthlyIncome               0\nNumCompaniesWorked         19\nOver18                      0\nPercentSalaryHike           0\nStandardHours               0\nStockOptionLevel            0\nTotalWorkingYears           9\nTrainingTimesLastYear       0\nYearsAtCompany              0\nYearsSinceLastPromotion     0\nYearsWithCurrManager        0\nJobInvolvement              0\nPerformanceRating           0\ndtype: int64"
     },
     "execution_count": 71,
     "metadata": {},
     "output_type": "execute_result"
    }
   ],
   "source": [
    "data.isnull().sum()"
   ],
   "metadata": {
    "collapsed": false,
    "ExecuteTime": {
     "end_time": "2024-12-16T12:44:42.091404300Z",
     "start_time": "2024-12-16T12:44:42.018872300Z"
    }
   },
   "id": "4a467154413803c1"
  },
  {
   "cell_type": "markdown",
   "source": [
    "We can see that 3 columns have missing values:\n",
    "- `EnvironmentSatisfaction`\n",
    "- `JobSatisfaction`\n",
    "- `WorkLifeBalance`\n",
    "\n",
    "These values all come from the employee survey data, so we can assume that some employees didn't answer the survey.\n",
    "\n",
    "Given that this data is numerical, we will fill the missing values with the median of the column."
   ],
   "metadata": {
    "collapsed": false
   },
   "id": "8d7277d19b3d1873"
  },
  {
   "cell_type": "code",
   "execution_count": 72,
   "outputs": [
    {
     "data": {
      "text/plain": "EmployeeID                  0\nEnvironmentSatisfaction     0\nJobSatisfaction             0\nWorkLifeBalance             0\nAge                         0\nAttrition                   0\nBusinessTravel              0\nDepartment                  0\nDistanceFromHome            0\nEducation                   0\nEducationField              0\nEmployeeCount               0\nGender                      0\nJobLevel                    0\nJobRole                     0\nMaritalStatus               0\nMonthlyIncome               0\nNumCompaniesWorked         19\nOver18                      0\nPercentSalaryHike           0\nStandardHours               0\nStockOptionLevel            0\nTotalWorkingYears           9\nTrainingTimesLastYear       0\nYearsAtCompany              0\nYearsSinceLastPromotion     0\nYearsWithCurrManager        0\nJobInvolvement              0\nPerformanceRating           0\ndtype: int64"
     },
     "execution_count": 72,
     "metadata": {},
     "output_type": "execute_result"
    }
   ],
   "source": [
    "from sklearn.impute import SimpleImputer\n",
    "\n",
    "imputer = SimpleImputer(strategy='median')\n",
    "\n",
    "data[['EnvironmentSatisfaction', 'JobSatisfaction', 'WorkLifeBalance']] = imputer.fit_transform(data[['EnvironmentSatisfaction', 'JobSatisfaction', 'WorkLifeBalance']])\n",
    "\n",
    "data.isnull().sum()"
   ],
   "metadata": {
    "collapsed": false,
    "ExecuteTime": {
     "end_time": "2024-12-16T12:44:42.092410900Z",
     "start_time": "2024-12-16T12:44:42.026581100Z"
    }
   },
   "id": "7eb23ebb8b53a59d"
  },
  {
   "cell_type": "markdown",
   "source": [
    "Now that we have filled the missing values, we can move on to the next step.\n",
    "\n",
    "### 1.2 Data transformation\n",
    "In this step, we will transform the categorical data into numerical data. This will allow us to use the data in machine learning models.\n",
    "\n",
    "First, we need to list the categorical columns."
   ],
   "metadata": {
    "collapsed": false
   },
   "id": "ddd7c9a17270b701"
  },
  {
   "cell_type": "code",
   "execution_count": 73,
   "outputs": [
    {
     "data": {
      "text/plain": "Index(['Attrition', 'BusinessTravel', 'Department', 'EducationField', 'Gender',\n       'JobRole', 'MaritalStatus', 'Over18'],\n      dtype='object')"
     },
     "execution_count": 73,
     "metadata": {},
     "output_type": "execute_result"
    }
   ],
   "source": [
    "data.select_dtypes(include=['object']).columns"
   ],
   "metadata": {
    "collapsed": false,
    "ExecuteTime": {
     "end_time": "2024-12-16T12:44:42.092410900Z",
     "start_time": "2024-12-16T12:44:42.036978400Z"
    }
   },
   "id": "9ac498c82e8f9957"
  },
  {
   "cell_type": "markdown",
   "source": [
    "Then we'll analyze the unique values of each column to see if we can transform them into numerical data."
   ],
   "metadata": {
    "collapsed": false
   },
   "id": "7e9412744e547989"
  },
  {
   "cell_type": "code",
   "execution_count": 74,
   "outputs": [
    {
     "name": "stdout",
     "output_type": "stream",
     "text": [
      "Attrition ['No' 'Yes']\n",
      "BusinessTravel ['Travel_Rarely' 'Travel_Frequently' 'Non-Travel']\n",
      "Department ['Sales' 'Research & Development' 'Human Resources']\n",
      "EducationField ['Life Sciences' 'Other' 'Medical' 'Marketing' 'Technical Degree'\n",
      " 'Human Resources']\n",
      "Gender ['Female' 'Male']\n",
      "JobRole ['Healthcare Representative' 'Research Scientist' 'Sales Executive'\n",
      " 'Human Resources' 'Research Director' 'Laboratory Technician'\n",
      " 'Manufacturing Director' 'Sales Representative' 'Manager']\n",
      "MaritalStatus ['Married' 'Single' 'Divorced']\n",
      "Over18 ['Y']\n"
     ]
    }
   ],
   "source": [
    "for column in data.select_dtypes(include=['object']).columns:\n",
    "    print(column, data[column].unique())"
   ],
   "metadata": {
    "collapsed": false,
    "ExecuteTime": {
     "end_time": "2024-12-16T12:44:42.093410200Z",
     "start_time": "2024-12-16T12:44:42.043950900Z"
    }
   },
   "id": "7616ad03adb7d0d"
  },
  {
   "cell_type": "markdown",
   "source": [
    "We can see that the following columns can be transformed into numerical data:\n",
    "- `Attrition`\n",
    "- `BusinessTravel`\n",
    "- `Department`\n",
    "- `EducationField`\n",
    "- `Gender`\n",
    "- `JobRole`\n",
    "- `MaritalStatus`\n",
    "- `Over18`\n",
    "\n",
    "We will use `sklearn` encoders to transform the data.\n",
    "Given that we have both data for which order is important and data for which order is not important, we will use both `OrdinalEncoder` and `OneHotEncoder`. We will use `OrdinalEncoder` for the data for which order is important, therefore associating a numerical value to each unique value. We will use `OneHotEncoder` for the data for which order is not important, therefore creating new binary columns for each unique value.\n",
    "\n",
    "The following columns will be transformed using `OrdinalEncoder`:\n",
    "- `Attrition`\n",
    "- `BusinessTravel`\n",
    "- `Gender`\n",
    "- `MaritalStatus`\n",
    "\n",
    "The following columns will be transformed using `OneHotEncoder`:\n",
    "- `Department`\n",
    "- `EducationField`\n",
    "- `JobRole`\n",
    "- `Over18`"
   ],
   "metadata": {
    "collapsed": false
   },
   "id": "453851d3ca95c299"
  },
  {
   "cell_type": "code",
   "execution_count": 75,
   "outputs": [
    {
     "data": {
      "text/plain": "   EmployeeID  EnvironmentSatisfaction  JobSatisfaction  WorkLifeBalance  Age  \\\n0           1                      3.0              4.0              2.0   51   \n1           2                      3.0              2.0              4.0   31   \n2           3                      2.0              2.0              1.0   32   \n3           4                      4.0              4.0              3.0   38   \n4           5                      4.0              1.0              3.0   32   \n\n   Attrition  BusinessTravel  DistanceFromHome  Education  EmployeeCount  ...  \\\n0        0.0             2.0                 6          2              1  ...   \n1        1.0             1.0                10          1              1  ...   \n2        0.0             1.0                17          4              1  ...   \n3        0.0             0.0                 2          5              1  ...   \n4        0.0             2.0                10          1              1  ...   \n\n   JobRole_Healthcare Representative  JobRole_Human Resources  \\\n0                                1.0                      0.0   \n1                                0.0                      0.0   \n2                                0.0                      0.0   \n3                                0.0                      1.0   \n4                                0.0                      0.0   \n\n   JobRole_Laboratory Technician  JobRole_Manager  \\\n0                            0.0              0.0   \n1                            0.0              0.0   \n2                            0.0              0.0   \n3                            0.0              0.0   \n4                            0.0              0.0   \n\n   JobRole_Manufacturing Director  JobRole_Research Director  \\\n0                             0.0                        0.0   \n1                             0.0                        0.0   \n2                             0.0                        0.0   \n3                             0.0                        0.0   \n4                             0.0                        0.0   \n\n   JobRole_Research Scientist  JobRole_Sales Executive  \\\n0                         0.0                      0.0   \n1                         1.0                      0.0   \n2                         0.0                      1.0   \n3                         0.0                      0.0   \n4                         0.0                      1.0   \n\n   JobRole_Sales Representative  Over18_Y  \n0                           0.0       1.0  \n1                           0.0       1.0  \n2                           0.0       1.0  \n3                           0.0       1.0  \n4                           0.0       1.0  \n\n[5 rows x 44 columns]",
      "text/html": "<div>\n<style scoped>\n    .dataframe tbody tr th:only-of-type {\n        vertical-align: middle;\n    }\n\n    .dataframe tbody tr th {\n        vertical-align: top;\n    }\n\n    .dataframe thead th {\n        text-align: right;\n    }\n</style>\n<table border=\"1\" class=\"dataframe\">\n  <thead>\n    <tr style=\"text-align: right;\">\n      <th></th>\n      <th>EmployeeID</th>\n      <th>EnvironmentSatisfaction</th>\n      <th>JobSatisfaction</th>\n      <th>WorkLifeBalance</th>\n      <th>Age</th>\n      <th>Attrition</th>\n      <th>BusinessTravel</th>\n      <th>DistanceFromHome</th>\n      <th>Education</th>\n      <th>EmployeeCount</th>\n      <th>...</th>\n      <th>JobRole_Healthcare Representative</th>\n      <th>JobRole_Human Resources</th>\n      <th>JobRole_Laboratory Technician</th>\n      <th>JobRole_Manager</th>\n      <th>JobRole_Manufacturing Director</th>\n      <th>JobRole_Research Director</th>\n      <th>JobRole_Research Scientist</th>\n      <th>JobRole_Sales Executive</th>\n      <th>JobRole_Sales Representative</th>\n      <th>Over18_Y</th>\n    </tr>\n  </thead>\n  <tbody>\n    <tr>\n      <th>0</th>\n      <td>1</td>\n      <td>3.0</td>\n      <td>4.0</td>\n      <td>2.0</td>\n      <td>51</td>\n      <td>0.0</td>\n      <td>2.0</td>\n      <td>6</td>\n      <td>2</td>\n      <td>1</td>\n      <td>...</td>\n      <td>1.0</td>\n      <td>0.0</td>\n      <td>0.0</td>\n      <td>0.0</td>\n      <td>0.0</td>\n      <td>0.0</td>\n      <td>0.0</td>\n      <td>0.0</td>\n      <td>0.0</td>\n      <td>1.0</td>\n    </tr>\n    <tr>\n      <th>1</th>\n      <td>2</td>\n      <td>3.0</td>\n      <td>2.0</td>\n      <td>4.0</td>\n      <td>31</td>\n      <td>1.0</td>\n      <td>1.0</td>\n      <td>10</td>\n      <td>1</td>\n      <td>1</td>\n      <td>...</td>\n      <td>0.0</td>\n      <td>0.0</td>\n      <td>0.0</td>\n      <td>0.0</td>\n      <td>0.0</td>\n      <td>0.0</td>\n      <td>1.0</td>\n      <td>0.0</td>\n      <td>0.0</td>\n      <td>1.0</td>\n    </tr>\n    <tr>\n      <th>2</th>\n      <td>3</td>\n      <td>2.0</td>\n      <td>2.0</td>\n      <td>1.0</td>\n      <td>32</td>\n      <td>0.0</td>\n      <td>1.0</td>\n      <td>17</td>\n      <td>4</td>\n      <td>1</td>\n      <td>...</td>\n      <td>0.0</td>\n      <td>0.0</td>\n      <td>0.0</td>\n      <td>0.0</td>\n      <td>0.0</td>\n      <td>0.0</td>\n      <td>0.0</td>\n      <td>1.0</td>\n      <td>0.0</td>\n      <td>1.0</td>\n    </tr>\n    <tr>\n      <th>3</th>\n      <td>4</td>\n      <td>4.0</td>\n      <td>4.0</td>\n      <td>3.0</td>\n      <td>38</td>\n      <td>0.0</td>\n      <td>0.0</td>\n      <td>2</td>\n      <td>5</td>\n      <td>1</td>\n      <td>...</td>\n      <td>0.0</td>\n      <td>1.0</td>\n      <td>0.0</td>\n      <td>0.0</td>\n      <td>0.0</td>\n      <td>0.0</td>\n      <td>0.0</td>\n      <td>0.0</td>\n      <td>0.0</td>\n      <td>1.0</td>\n    </tr>\n    <tr>\n      <th>4</th>\n      <td>5</td>\n      <td>4.0</td>\n      <td>1.0</td>\n      <td>3.0</td>\n      <td>32</td>\n      <td>0.0</td>\n      <td>2.0</td>\n      <td>10</td>\n      <td>1</td>\n      <td>1</td>\n      <td>...</td>\n      <td>0.0</td>\n      <td>0.0</td>\n      <td>0.0</td>\n      <td>0.0</td>\n      <td>0.0</td>\n      <td>0.0</td>\n      <td>0.0</td>\n      <td>1.0</td>\n      <td>0.0</td>\n      <td>1.0</td>\n    </tr>\n  </tbody>\n</table>\n<p>5 rows × 44 columns</p>\n</div>"
     },
     "execution_count": 75,
     "metadata": {},
     "output_type": "execute_result"
    }
   ],
   "source": [
    "from sklearn.preprocessing import OrdinalEncoder, OneHotEncoder\n",
    "\n",
    "# Create the encoders\n",
    "ordinal_encoder = OrdinalEncoder()\n",
    "onehot_encoder = OneHotEncoder(sparse_output=False) \n",
    "\n",
    "# Transform the ordinal data \n",
    "ordinal_columns = ['Attrition', 'BusinessTravel', 'Gender', 'MaritalStatus']\n",
    "data[ordinal_columns] = ordinal_encoder.fit_transform(data[ordinal_columns])\n",
    "\n",
    "# Transform the onehot data\n",
    "onehot_columns = ['Department', 'EducationField', 'JobRole', 'Over18']\n",
    "onehot_data = onehot_encoder.fit_transform(data[onehot_columns])\n",
    "onehot_data = pd.DataFrame(onehot_data, columns=onehot_encoder.get_feature_names_out(onehot_columns))\n",
    "data = pd.concat([data, onehot_data], axis=1)\n",
    "data = data.drop(columns=onehot_columns)\n",
    "\n",
    "data.head()"
   ],
   "metadata": {
    "collapsed": false,
    "ExecuteTime": {
     "end_time": "2024-12-16T12:44:42.103363100Z",
     "start_time": "2024-12-16T12:44:42.051075700Z"
    }
   },
   "id": "3c553c41859565b"
  },
  {
   "cell_type": "markdown",
   "source": [
    "We have now transformed the categorical data into numerical data. We can now move on to the next step.\n",
    "\n",
    "### 1.3 Removing irrelevant columns\n",
    "\n",
    "In this step, we will remove the columns that are not relevant to the analysis.\n",
    "We will remove the following columns because their value is the same throughout the dataset:\n",
    "- `EmployeeCount`\n",
    "- `Over18`\n",
    "- `StandardHours`\n",
    "\n",
    "We will also remove the `EmployeeID` column because it is not relevant to the analysis either."
   ],
   "metadata": {
    "collapsed": false
   },
   "id": "25b83784548565eb"
  },
  {
   "cell_type": "code",
   "execution_count": 76,
   "outputs": [],
   "source": [
    "data = data.drop(columns=['EmployeeCount', 'Over18_Y', 'StandardHours', 'EmployeeID'])"
   ],
   "metadata": {
    "collapsed": false,
    "ExecuteTime": {
     "end_time": "2024-12-16T12:44:42.104364600Z",
     "start_time": "2024-12-16T12:44:42.078873Z"
    }
   },
   "id": "f39d13905ee6085e"
  },
  {
   "cell_type": "markdown",
   "source": [
    "### 1.4 Ethical considerations\n",
    "\n",
    "Given that we have to take a decision, we need to consider the ethical implications of certain attributes.\n",
    "\n",
    "We have chosen not to consider the following columns in our analysis because they are not ethical:\n",
    "- `Gender`\n",
    "- `MaritalStatus`\n",
    "\n",
    "We will therefore remove these columns from the dataset, not because they are irrelevant, but because we strive to be ethical in our analysis.\n",
    "\n"
   ],
   "metadata": {
    "collapsed": false
   },
   "id": "3f1dfca5bff89a3d"
  },
  {
   "cell_type": "code",
   "execution_count": 77,
   "outputs": [
    {
     "data": {
      "text/plain": "   EnvironmentSatisfaction  JobSatisfaction  WorkLifeBalance  Attrition  \\\n0                      3.0              4.0              2.0        0.0   \n1                      3.0              2.0              4.0        1.0   \n2                      2.0              2.0              1.0        0.0   \n3                      4.0              4.0              3.0        0.0   \n4                      4.0              1.0              3.0        0.0   \n\n   BusinessTravel  DistanceFromHome  Education  Gender  JobLevel  \\\n0             2.0                 6          2     0.0         1   \n1             1.0                10          1     0.0         1   \n2             1.0                17          4     1.0         4   \n3             0.0                 2          5     1.0         3   \n4             2.0                10          1     1.0         1   \n\n   MonthlyIncome  ...  EducationField_Technical Degree  \\\n0         131160  ...                              0.0   \n1          41890  ...                              0.0   \n2         193280  ...                              0.0   \n3          83210  ...                              0.0   \n4          23420  ...                              0.0   \n\n   JobRole_Healthcare Representative  JobRole_Human Resources  \\\n0                                1.0                      0.0   \n1                                0.0                      0.0   \n2                                0.0                      0.0   \n3                                0.0                      1.0   \n4                                0.0                      0.0   \n\n   JobRole_Laboratory Technician  JobRole_Manager  \\\n0                            0.0              0.0   \n1                            0.0              0.0   \n2                            0.0              0.0   \n3                            0.0              0.0   \n4                            0.0              0.0   \n\n   JobRole_Manufacturing Director  JobRole_Research Director  \\\n0                             0.0                        0.0   \n1                             0.0                        0.0   \n2                             0.0                        0.0   \n3                             0.0                        0.0   \n4                             0.0                        0.0   \n\n   JobRole_Research Scientist  JobRole_Sales Executive  \\\n0                         0.0                      0.0   \n1                         1.0                      0.0   \n2                         0.0                      1.0   \n3                         0.0                      0.0   \n4                         0.0                      1.0   \n\n   JobRole_Sales Representative  \n0                           0.0  \n1                           0.0  \n2                           0.0  \n3                           0.0  \n4                           0.0  \n\n[5 rows x 38 columns]",
      "text/html": "<div>\n<style scoped>\n    .dataframe tbody tr th:only-of-type {\n        vertical-align: middle;\n    }\n\n    .dataframe tbody tr th {\n        vertical-align: top;\n    }\n\n    .dataframe thead th {\n        text-align: right;\n    }\n</style>\n<table border=\"1\" class=\"dataframe\">\n  <thead>\n    <tr style=\"text-align: right;\">\n      <th></th>\n      <th>EnvironmentSatisfaction</th>\n      <th>JobSatisfaction</th>\n      <th>WorkLifeBalance</th>\n      <th>Attrition</th>\n      <th>BusinessTravel</th>\n      <th>DistanceFromHome</th>\n      <th>Education</th>\n      <th>Gender</th>\n      <th>JobLevel</th>\n      <th>MonthlyIncome</th>\n      <th>...</th>\n      <th>EducationField_Technical Degree</th>\n      <th>JobRole_Healthcare Representative</th>\n      <th>JobRole_Human Resources</th>\n      <th>JobRole_Laboratory Technician</th>\n      <th>JobRole_Manager</th>\n      <th>JobRole_Manufacturing Director</th>\n      <th>JobRole_Research Director</th>\n      <th>JobRole_Research Scientist</th>\n      <th>JobRole_Sales Executive</th>\n      <th>JobRole_Sales Representative</th>\n    </tr>\n  </thead>\n  <tbody>\n    <tr>\n      <th>0</th>\n      <td>3.0</td>\n      <td>4.0</td>\n      <td>2.0</td>\n      <td>0.0</td>\n      <td>2.0</td>\n      <td>6</td>\n      <td>2</td>\n      <td>0.0</td>\n      <td>1</td>\n      <td>131160</td>\n      <td>...</td>\n      <td>0.0</td>\n      <td>1.0</td>\n      <td>0.0</td>\n      <td>0.0</td>\n      <td>0.0</td>\n      <td>0.0</td>\n      <td>0.0</td>\n      <td>0.0</td>\n      <td>0.0</td>\n      <td>0.0</td>\n    </tr>\n    <tr>\n      <th>1</th>\n      <td>3.0</td>\n      <td>2.0</td>\n      <td>4.0</td>\n      <td>1.0</td>\n      <td>1.0</td>\n      <td>10</td>\n      <td>1</td>\n      <td>0.0</td>\n      <td>1</td>\n      <td>41890</td>\n      <td>...</td>\n      <td>0.0</td>\n      <td>0.0</td>\n      <td>0.0</td>\n      <td>0.0</td>\n      <td>0.0</td>\n      <td>0.0</td>\n      <td>0.0</td>\n      <td>1.0</td>\n      <td>0.0</td>\n      <td>0.0</td>\n    </tr>\n    <tr>\n      <th>2</th>\n      <td>2.0</td>\n      <td>2.0</td>\n      <td>1.0</td>\n      <td>0.0</td>\n      <td>1.0</td>\n      <td>17</td>\n      <td>4</td>\n      <td>1.0</td>\n      <td>4</td>\n      <td>193280</td>\n      <td>...</td>\n      <td>0.0</td>\n      <td>0.0</td>\n      <td>0.0</td>\n      <td>0.0</td>\n      <td>0.0</td>\n      <td>0.0</td>\n      <td>0.0</td>\n      <td>0.0</td>\n      <td>1.0</td>\n      <td>0.0</td>\n    </tr>\n    <tr>\n      <th>3</th>\n      <td>4.0</td>\n      <td>4.0</td>\n      <td>3.0</td>\n      <td>0.0</td>\n      <td>0.0</td>\n      <td>2</td>\n      <td>5</td>\n      <td>1.0</td>\n      <td>3</td>\n      <td>83210</td>\n      <td>...</td>\n      <td>0.0</td>\n      <td>0.0</td>\n      <td>1.0</td>\n      <td>0.0</td>\n      <td>0.0</td>\n      <td>0.0</td>\n      <td>0.0</td>\n      <td>0.0</td>\n      <td>0.0</td>\n      <td>0.0</td>\n    </tr>\n    <tr>\n      <th>4</th>\n      <td>4.0</td>\n      <td>1.0</td>\n      <td>3.0</td>\n      <td>0.0</td>\n      <td>2.0</td>\n      <td>10</td>\n      <td>1</td>\n      <td>1.0</td>\n      <td>1</td>\n      <td>23420</td>\n      <td>...</td>\n      <td>0.0</td>\n      <td>0.0</td>\n      <td>0.0</td>\n      <td>0.0</td>\n      <td>0.0</td>\n      <td>0.0</td>\n      <td>0.0</td>\n      <td>0.0</td>\n      <td>1.0</td>\n      <td>0.0</td>\n    </tr>\n  </tbody>\n</table>\n<p>5 rows × 38 columns</p>\n</div>"
     },
     "execution_count": 77,
     "metadata": {},
     "output_type": "execute_result"
    }
   ],
   "source": [
    "# Remove the columns that are not ethical\n",
    "data = data.drop(columns=['Age', 'MaritalStatus'])\n",
    "\n",
    "data.head()"
   ],
   "metadata": {
    "collapsed": false,
    "ExecuteTime": {
     "end_time": "2024-12-16T12:44:42.147717900Z",
     "start_time": "2024-12-16T12:44:42.082391100Z"
    }
   },
   "id": "d6c91414c43089f4"
  },
  {
   "cell_type": "code",
   "execution_count": 77,
   "outputs": [],
   "source": [],
   "metadata": {
    "collapsed": false,
    "ExecuteTime": {
     "end_time": "2024-12-16T12:44:42.147717900Z",
     "start_time": "2024-12-16T12:44:42.098211Z"
    }
   },
   "id": "fc1e07bbeab7929e"
  }
 ],
 "metadata": {
  "kernelspec": {
   "display_name": "Python 3",
   "language": "python",
   "name": "python3"
  },
  "language_info": {
   "codemirror_mode": {
    "name": "ipython",
    "version": 2
   },
   "file_extension": ".py",
   "mimetype": "text/x-python",
   "name": "python",
   "nbconvert_exporter": "python",
   "pygments_lexer": "ipython2",
   "version": "2.7.6"
  }
 },
 "nbformat": 4,
 "nbformat_minor": 5
}
