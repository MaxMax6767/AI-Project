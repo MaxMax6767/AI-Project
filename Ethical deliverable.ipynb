{
 "cells": [
  {
   "cell_type": "markdown",
   "id": "1d763b6e",
   "metadata": {},
   "source": [
    "# Ethics at the heart of our values #\n",
    "\n",
    "## Our ethic respect the European norms ##\n",
    "\n",
    "#### there is the 7 requires of the European norms : ####\n",
    "\n",
    "- respect for human autonomy\n",
    "\n",
    "- technical robustness and safety\n",
    "\n",
    "- privacy and data governance\n",
    "\n",
    "- transparency\n",
    "\n",
    "- diversity, non-discrimination and fairness\n",
    "\n",
    "- environmental and societal well-being\n",
    "\n",
    "- accountability\n"
   ]
  },
  {
   "cell_type": "markdown",
   "id": "6f57d9f1",
   "metadata": {},
   "source": [
    "### Respect for human autonomy ###"
   ]
  },
  {
   "cell_type": "markdown",
   "id": "443cc3bc",
   "metadata": {},
   "source": [
    "### Technical robustness and safety ###"
   ]
  },
  {
   "cell_type": "markdown",
   "id": "6da7865b",
   "metadata": {},
   "source": [
    "### Transparency ###"
   ]
  },
  {
   "cell_type": "markdown",
   "id": "dd58879d",
   "metadata": {},
   "source": [
    "### Diversity, non-discrimination and fairness ###"
   ]
  },
  {
   "cell_type": "markdown",
   "id": "c5888b81",
   "metadata": {},
   "source": [
    "### Environmental and societal well-being ###"
   ]
  },
  {
   "cell_type": "markdown",
   "id": "fb90a962",
   "metadata": {},
   "source": [
    "### Accountability ###"
   ]
  }
 ],
 "metadata": {
  "kernelspec": {
   "display_name": "Python 3",
   "language": "python",
   "name": "python3"
  },
  "language_info": {
   "codemirror_mode": {
    "name": "ipython",
    "version": 2
   },
   "file_extension": ".py",
   "mimetype": "text/x-python",
   "name": "python",
   "nbconvert_exporter": "python",
   "pygments_lexer": "ipython2",
   "version": "2.7.6"
  }
 },
 "nbformat": 4,
 "nbformat_minor": 5
}
